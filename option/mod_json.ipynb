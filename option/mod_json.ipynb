{
 "cells": [
  {
   "cell_type": "code",
   "execution_count": 3,
   "metadata": {},
   "outputs": [],
   "source": [
    "file_name = './train/train_dense161.json'"
   ]
  },
  {
   "cell_type": "code",
   "execution_count": 6,
   "metadata": {},
   "outputs": [],
   "source": [
    "with open(file_name) as f:\n",
    "    new_str = f.read().replace('/home/stevetod/jzy/dataset/PascalVOC/JPEGImages/', \n",
    "                               '/home/tsinghuaee01/dataset/PascalVOC/JPEGImages/')\n",
    "    new_str = new_str.replace('/home/stevetod/jzy/dataset/PascalVOC/', './data/')\n",
    "    new_str = new_str.replace('/home/stevetod/jzy/', '/home/tsinghuaee01/')"
   ]
  },
  {
   "cell_type": "code",
   "execution_count": 7,
   "metadata": {},
   "outputs": [
    {
     "name": "stdout",
     "output_type": "stream",
     "text": [
      "{\n",
      "  \"name\": \"densenet161_object_classification\"\n",
      "  , \"use_tb_logger\": true\n",
      "  , \"mode\": \"oc\"\n",
      "  , \"is_train\": true\n",
      "  , \"gpu_ids\": [1, 2]\n",
      "\n",
      "  , \"datasets\": {\n",
      "    \"train\": {\n",
      "      \"root_path\": \"/home/tsinghuaee01/dataset/PascalVOC/JPEGImages/\"\n",
      "      , \"info_path\": \"./data/train_anno.txt\"\n",
      "      , \"mode\": \"oc\"\n",
      "      , \"input_size\": 224\n",
      "      , \"scale\": [0.8, 1.0]\n",
      "      , \"category_num\": 20\n",
      "      , \"use_flip\": true\n",
      "      , \"batch_size\": 64\n",
      "      , \"num_workers\": 8\n",
      "    }\n",
      "    , \"val\": {\n",
      "      \"root_path\": \"/home/tsinghuaee01/dataset/PascalVOC/JPEGImages/\"\n",
      "      , \"info_path\": \"./data/val_anno.txt\"\n",
      "      , \"mode\": \"oc\"\n",
      "      , \"input_size\": 224\n",
      "      , \"category_num\": 20\n",
      "    }\n",
      "  }\n",
      "\n",
      "  , \"path\": {\n",
      "    \"root\": \"/home/tsinghuaee01/projects/Object-Classification\"\n",
      "  }\n",
      "\n",
      "  , \"network_C\": {\n",
      "    \"which_model_C\": \"densenet161\"\n",
      "    , \"num_class\": 20\n",
      "  }\n",
      "\n",
      "  , \"solver\": {\n",
      "    \"type\": \"ADAM\"\n",
      "    , \"save_step\": 5\n",
      "    , \"loss_type\": \"BCEWithLogits\"\n",
      "    , \"learning_rate\": 1e-4\n",
      "    , \"weight_decay\": 1e-4\n",
      "    , \"lr_scheme\": \"multisteplr\"\n",
      "    , \"lr_steps\": [10, 15, 18]\n",
      "    , \"lr_gamma\": 0.5\n",
      "    , \"epoch\": 20\n",
      "  }\n",
      "}\n",
      "\n"
     ]
    }
   ],
   "source": [
    "print(new_str)"
   ]
  },
  {
   "cell_type": "code",
   "execution_count": 8,
   "metadata": {},
   "outputs": [],
   "source": [
    "with open(file_name, 'w') as f:\n",
    "    f.write(new_str)"
   ]
  },
  {
   "cell_type": "code",
   "execution_count": null,
   "metadata": {},
   "outputs": [],
   "source": []
  }
 ],
 "metadata": {
  "kernelspec": {
   "display_name": "Python 3",
   "language": "python",
   "name": "python3"
  },
  "language_info": {
   "codemirror_mode": {
    "name": "ipython",
    "version": 3
   },
   "file_extension": ".py",
   "mimetype": "text/x-python",
   "name": "python",
   "nbconvert_exporter": "python",
   "pygments_lexer": "ipython3",
   "version": "3.7.2"
  }
 },
 "nbformat": 4,
 "nbformat_minor": 2
}
