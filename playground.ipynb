{
 "cells": [
  {
   "cell_type": "code",
   "execution_count": 1,
   "metadata": {},
   "outputs": [
    {
     "ename": "ModuleNotFoundError",
     "evalue": "No module named 'torch'",
     "output_type": "error",
     "traceback": [
      "\u001b[0;31m---------------------------------------------------------------------------\u001b[0m",
      "\u001b[0;31mModuleNotFoundError\u001b[0m                       Traceback (most recent call last)",
      "\u001b[0;32m<ipython-input-1-ed50b3849d98>\u001b[0m in \u001b[0;36m<module>\u001b[0;34m()\u001b[0m\n\u001b[1;32m      5\u001b[0m \u001b[0;32mimport\u001b[0m \u001b[0mmatplotlib\u001b[0m\u001b[0;34m.\u001b[0m\u001b[0mpyplot\u001b[0m \u001b[0;32mas\u001b[0m \u001b[0mplt\u001b[0m\u001b[0;34m\u001b[0m\u001b[0m\n\u001b[1;32m      6\u001b[0m \u001b[0;34m\u001b[0m\u001b[0m\n\u001b[0;32m----> 7\u001b[0;31m \u001b[0;32mimport\u001b[0m \u001b[0mtorch\u001b[0m\u001b[0;34m\u001b[0m\u001b[0m\n\u001b[0m\u001b[1;32m      8\u001b[0m \u001b[0;32mimport\u001b[0m \u001b[0mtorch\u001b[0m\u001b[0;34m.\u001b[0m\u001b[0mnn\u001b[0m \u001b[0;32mas\u001b[0m \u001b[0mnn\u001b[0m\u001b[0;34m\u001b[0m\u001b[0m\n\u001b[1;32m      9\u001b[0m \u001b[0;32mfrom\u001b[0m \u001b[0mtorch\u001b[0m\u001b[0;34m.\u001b[0m\u001b[0mutils\u001b[0m\u001b[0;34m.\u001b[0m\u001b[0mdata\u001b[0m \u001b[0;32mimport\u001b[0m \u001b[0mDataLoader\u001b[0m\u001b[0;34m\u001b[0m\u001b[0m\n",
      "\u001b[0;31mModuleNotFoundError\u001b[0m: No module named 'torch'"
     ]
    }
   ],
   "source": [
    "import os\n",
    "os.environ['CUDA_VISIBLE_DEVICES'] = '1,2'\n",
    "import numpy as np\n",
    "from tqdm import tqdm_notebook as tqdm\n",
    "import matplotlib.pyplot as plt\n",
    "\n",
    "import torch\n",
    "import torch.nn as nn\n",
    "from torch.utils.data import DataLoader\n",
    "import torchvision\n",
    "\n",
    "from data.dataset import PascalVOCDataset\n",
    "\n",
    "%matplotlib inline"
   ]
  },
  {
   "cell_type": "code",
   "execution_count": 2,
   "metadata": {},
   "outputs": [],
   "source": [
    "train_data_opt = {'info_path': '/home/stevetod/jzy/dataset/PascalVOC/train_anno.txt',\n",
    "             'root_path': '/home/stevetod/jzy/dataset/PascalVOC/JPEGImages/',\n",
    "             'phase': 'train',\n",
    "             'input_size': 224,\n",
    "             'category_num': 20}\n",
    "val_data_opt = {'info_path': '/home/stevetod/jzy/dataset/PascalVOC/val_anno.txt',\n",
    "             'root_path': '/home/stevetod/jzy/dataset/PascalVOC/JPEGImages/',\n",
    "             'phase': 'val',\n",
    "             'input_size': 224,\n",
    "             'category_num': 20}"
   ]
  },
  {
   "cell_type": "code",
   "execution_count": 3,
   "metadata": {},
   "outputs": [],
   "source": [
    "train_ds = PascalVOCDataset(train_data_opt)\n",
    "val_ds = PascalVOCDataset(val_data_opt)"
   ]
  },
  {
   "cell_type": "code",
   "execution_count": 4,
   "metadata": {},
   "outputs": [],
   "source": [
    "train_dl = DataLoader(train_ds, batch_size=32, num_workers=8, pin_memory=True)\n",
    "val_dl = DataLoader(val_ds)"
   ]
  },
  {
   "cell_type": "code",
   "execution_count": null,
   "metadata": {},
   "outputs": [
    {
     "data": {
      "application/vnd.jupyter.widget-view+json": {
       "model_id": "d103ef9313054af7a735442561dd627f",
       "version_major": 2,
       "version_minor": 0
      },
      "text/plain": [
       "HBox(children=(IntProgress(value=0, max=339), HTML(value='')))"
      ]
     },
     "metadata": {},
     "output_type": "display_data"
    },
    {
     "name": "stderr",
     "output_type": "stream",
     "text": [
      "/home/data/private/disk5/stevetod/anaconda3/envs/pytorch_py3/lib/python3.6/site-packages/torch/nn/functional.py:2016: UserWarning: Using a target size (torch.Size([32])) that is different to the input size (torch.Size([32, 1])) is deprecated. Please ensure they have the same size.\n",
      "  \"Please ensure they have the same size.\".format(target.size(), input.size()))\n",
      "/home/data/private/disk5/stevetod/anaconda3/envs/pytorch_py3/lib/python3.6/site-packages/torch/nn/functional.py:2016: UserWarning: Using a target size (torch.Size([10])) that is different to the input size (torch.Size([10, 1])) is deprecated. Please ensure they have the same size.\n",
      "  \"Please ensure they have the same size.\".format(target.size(), input.size()))\n"
     ]
    },
    {
     "name": "stdout",
     "output_type": "stream",
     "text": [
      "\n",
      "Mean train loss: 0.5945\n"
     ]
    },
    {
     "data": {
      "application/vnd.jupyter.widget-view+json": {
       "model_id": "01fdc48f88ae4641994cc6d026949726",
       "version_major": 2,
       "version_minor": 0
      },
      "text/plain": [
       "HBox(children=(IntProgress(value=0, max=339), HTML(value='')))"
      ]
     },
     "metadata": {},
     "output_type": "display_data"
    },
    {
     "name": "stdout",
     "output_type": "stream",
     "text": [
      "\n",
      "Mean train loss: 0.6349\n"
     ]
    },
    {
     "data": {
      "application/vnd.jupyter.widget-view+json": {
       "model_id": "f585dd438f7e490ebf5a81a6ebe5398d",
       "version_major": 2,
       "version_minor": 0
      },
      "text/plain": [
       "HBox(children=(IntProgress(value=0, max=339), HTML(value='')))"
      ]
     },
     "metadata": {},
     "output_type": "display_data"
    },
    {
     "name": "stdout",
     "output_type": "stream",
     "text": [
      "\n",
      "Mean train loss: 0.6290\n"
     ]
    },
    {
     "data": {
      "application/vnd.jupyter.widget-view+json": {
       "model_id": "f34f141a72d2402fa550d99fbca99a2e",
       "version_major": 2,
       "version_minor": 0
      },
      "text/plain": [
       "HBox(children=(IntProgress(value=0, max=339), HTML(value='')))"
      ]
     },
     "metadata": {},
     "output_type": "display_data"
    },
    {
     "name": "stdout",
     "output_type": "stream",
     "text": [
      "\n",
      "Mean train loss: 0.6179\n"
     ]
    },
    {
     "data": {
      "application/vnd.jupyter.widget-view+json": {
       "model_id": "104a772ad592448ca7e42dc6d0c61dad",
       "version_major": 2,
       "version_minor": 0
      },
      "text/plain": [
       "HBox(children=(IntProgress(value=0, max=339), HTML(value='')))"
      ]
     },
     "metadata": {},
     "output_type": "display_data"
    },
    {
     "name": "stdout",
     "output_type": "stream",
     "text": [
      "\n",
      "Mean train loss: 0.6102\n"
     ]
    },
    {
     "data": {
      "application/vnd.jupyter.widget-view+json": {
       "model_id": "40d16840bfc2497db68f9562d61b63c7",
       "version_major": 2,
       "version_minor": 0
      },
      "text/plain": [
       "HBox(children=(IntProgress(value=0, max=339), HTML(value='')))"
      ]
     },
     "metadata": {},
     "output_type": "display_data"
    },
    {
     "name": "stdout",
     "output_type": "stream",
     "text": [
      "\n",
      "Mean train loss: 0.6025\n"
     ]
    },
    {
     "data": {
      "application/vnd.jupyter.widget-view+json": {
       "model_id": "c8ac3d7c17a64185a7c2dc8703ee7649",
       "version_major": 2,
       "version_minor": 0
      },
      "text/plain": [
       "HBox(children=(IntProgress(value=0, max=339), HTML(value='')))"
      ]
     },
     "metadata": {},
     "output_type": "display_data"
    },
    {
     "name": "stdout",
     "output_type": "stream",
     "text": [
      "\n",
      "Mean train loss: 0.5948\n"
     ]
    },
    {
     "data": {
      "application/vnd.jupyter.widget-view+json": {
       "model_id": "fe29986f588746c2b9765cc6169607e8",
       "version_major": 2,
       "version_minor": 0
      },
      "text/plain": [
       "HBox(children=(IntProgress(value=0, max=339), HTML(value='')))"
      ]
     },
     "metadata": {},
     "output_type": "display_data"
    },
    {
     "name": "stdout",
     "output_type": "stream",
     "text": [
      "\n",
      "Mean train loss: 0.5877\n"
     ]
    },
    {
     "data": {
      "application/vnd.jupyter.widget-view+json": {
       "model_id": "d6a46c6737fa45da9250242ff4154c18",
       "version_major": 2,
       "version_minor": 0
      },
      "text/plain": [
       "HBox(children=(IntProgress(value=0, max=339), HTML(value='')))"
      ]
     },
     "metadata": {},
     "output_type": "display_data"
    },
    {
     "name": "stdout",
     "output_type": "stream",
     "text": [
      "\n",
      "Mean train loss: 0.5829\n"
     ]
    },
    {
     "data": {
      "application/vnd.jupyter.widget-view+json": {
       "model_id": "c50728e276294bf9a971027fcd2e144a",
       "version_major": 2,
       "version_minor": 0
      },
      "text/plain": [
       "HBox(children=(IntProgress(value=0, max=339), HTML(value='')))"
      ]
     },
     "metadata": {},
     "output_type": "display_data"
    },
    {
     "name": "stdout",
     "output_type": "stream",
     "text": [
      "\n",
      "Mean train loss: 0.5763\n"
     ]
    },
    {
     "data": {
      "application/vnd.jupyter.widget-view+json": {
       "model_id": "c1062b1dd42b490692dee572c9ccc7d7",
       "version_major": 2,
       "version_minor": 0
      },
      "text/plain": [
       "HBox(children=(IntProgress(value=0, max=1203), HTML(value='')))"
      ]
     },
     "metadata": {},
     "output_type": "display_data"
    },
    {
     "name": "stdout",
     "output_type": "stream",
     "text": [
      "\n",
      "mAcc:  0.03420615128844555\n",
      "wAcc:  0.684123025768911\n",
      "F1-score 0.79, 0.00, 0.00, 0.00, 0.00, 0.00, 0.00, 0.00, 0.00, 0.00, 0.00, 0.00, 0.00, 0.00, 0.00, 0.00, 0.00, 0.00, 0.00, 0.00\n"
     ]
    },
    {
     "name": "stderr",
     "output_type": "stream",
     "text": [
      "/home/data/private/disk5/stevetod/anaconda3/envs/pytorch_py3/lib/python3.6/site-packages/ipykernel_launcher.py:55: RuntimeWarning: invalid value encountered in true_divide\n"
     ]
    },
    {
     "data": {
      "application/vnd.jupyter.widget-view+json": {
       "model_id": "123a0c6c87d242e6a49eeaaee1919f10",
       "version_major": 2,
       "version_minor": 0
      },
      "text/plain": [
       "HBox(children=(IntProgress(value=0, max=339), HTML(value='')))"
      ]
     },
     "metadata": {},
     "output_type": "display_data"
    },
    {
     "name": "stdout",
     "output_type": "stream",
     "text": [
      "\n",
      "Mean train loss: 0.3408\n"
     ]
    },
    {
     "data": {
      "application/vnd.jupyter.widget-view+json": {
       "model_id": "9bedcd8e4ab1475aa433b140736107e5",
       "version_major": 2,
       "version_minor": 0
      },
      "text/plain": [
       "HBox(children=(IntProgress(value=0, max=339), HTML(value='')))"
      ]
     },
     "metadata": {},
     "output_type": "display_data"
    },
    {
     "name": "stdout",
     "output_type": "stream",
     "text": [
      "\n",
      "Mean train loss: 0.1728\n"
     ]
    },
    {
     "data": {
      "application/vnd.jupyter.widget-view+json": {
       "model_id": "9ad58aae2d68469d905782b1e4e51227",
       "version_major": 2,
       "version_minor": 0
      },
      "text/plain": [
       "HBox(children=(IntProgress(value=0, max=339), HTML(value='')))"
      ]
     },
     "metadata": {},
     "output_type": "display_data"
    },
    {
     "name": "stdout",
     "output_type": "stream",
     "text": [
      "\n",
      "Mean train loss: 0.1564\n"
     ]
    },
    {
     "data": {
      "application/vnd.jupyter.widget-view+json": {
       "model_id": "ed5dfb7a62f340779b0d9d749e5bffde",
       "version_major": 2,
       "version_minor": 0
      },
      "text/plain": [
       "HBox(children=(IntProgress(value=0, max=339), HTML(value='')))"
      ]
     },
     "metadata": {},
     "output_type": "display_data"
    },
    {
     "name": "stdout",
     "output_type": "stream",
     "text": [
      "\n",
      "Mean train loss: 0.1480\n"
     ]
    },
    {
     "data": {
      "application/vnd.jupyter.widget-view+json": {
       "model_id": "a7fd252474d84b08b9b053a96ddbfa2f",
       "version_major": 2,
       "version_minor": 0
      },
      "text/plain": [
       "HBox(children=(IntProgress(value=0, max=339), HTML(value='')))"
      ]
     },
     "metadata": {},
     "output_type": "display_data"
    },
    {
     "name": "stdout",
     "output_type": "stream",
     "text": [
      "\n",
      "Mean train loss: 0.1427\n"
     ]
    },
    {
     "data": {
      "application/vnd.jupyter.widget-view+json": {
       "model_id": "cfcdf5a977ad45daabe6f5171090af90",
       "version_major": 2,
       "version_minor": 0
      },
      "text/plain": [
       "HBox(children=(IntProgress(value=0, max=339), HTML(value='')))"
      ]
     },
     "metadata": {},
     "output_type": "display_data"
    },
    {
     "name": "stdout",
     "output_type": "stream",
     "text": [
      "\n",
      "Mean train loss: 0.1375\n"
     ]
    },
    {
     "data": {
      "application/vnd.jupyter.widget-view+json": {
       "model_id": "716ac2885ba74e379bb43a1901c73be6",
       "version_major": 2,
       "version_minor": 0
      },
      "text/plain": [
       "HBox(children=(IntProgress(value=0, max=339), HTML(value='')))"
      ]
     },
     "metadata": {},
     "output_type": "display_data"
    },
    {
     "name": "stdout",
     "output_type": "stream",
     "text": [
      "\n",
      "Mean train loss: 0.1321\n"
     ]
    },
    {
     "data": {
      "application/vnd.jupyter.widget-view+json": {
       "model_id": "ed106be765a24549b3fee00600cfe662",
       "version_major": 2,
       "version_minor": 0
      },
      "text/plain": [
       "HBox(children=(IntProgress(value=0, max=339), HTML(value='')))"
      ]
     },
     "metadata": {},
     "output_type": "display_data"
    }
   ],
   "source": [
    "            \n",
    "hist_dict = {'mAcc': [], 'wAcc':[], 'f1': []}\n",
    "result_array = np.zeros((1, 20), dtype=int)\n",
    "cnt_array = np.zeros((1, 20), dtype=int)\n",
    "TP_array = np.zeros((1, 20), dtype=int)\n",
    "FP_FN_array = np.zeros((1, 20), dtype=int)\n",
    "\n",
    "for feature in range(20):\n",
    "    model_ft = torchvision.models.densenet161(pretrained=True)\n",
    "    num_ftrs = model_ft.classifier.in_features\n",
    "    model_ft.classifier = nn.Sequential(nn.Linear(num_ftrs, 1), nn.Sigmoid())\n",
    "    \n",
    "    #input_size = 224\n",
    "    optimizer = torch.optim.SGD(model_ft.parameters(), lr=1e-4, weight_decay=1e-4)\n",
    "    criterion = nn.BCELoss().cuda()\n",
    "    model_ft = model_ft.cuda()\n",
    "    \n",
    "    for epoch in range(10):\n",
    "        model_ft.train()\n",
    "        with tqdm(total = len(train_dl)) as t:\n",
    "            loss_hist = []\n",
    "            for i, sample in enumerate(train_dl):\n",
    "                optimizer.zero_grad()\n",
    "                img, target = sample\n",
    "                target = target[:,feature] # single feature\n",
    "                img = img.cuda()\n",
    "                target = target.cuda()\n",
    "                output = model_ft(img)\n",
    "                #print(output.size())\n",
    "                loss = criterion(output, target)\n",
    "                loss.backward()\n",
    "                optimizer.step()\n",
    "                t.set_postfix_str(\"Batch Loss: %.4f\" % loss.item())\n",
    "                t.update()\n",
    "                loss_hist.append(loss.item())\n",
    "        print('Mean train loss: %.4f' % np.mean(loss_hist))    \n",
    "        \n",
    "    model_ft.eval()\n",
    "    \n",
    "    with torch.no_grad():\n",
    "        for i, sample in tqdm(enumerate(val_dl), total=len(val_dl)):\n",
    "            img, target = sample\n",
    "            target = target[:,feature]\n",
    "            img = img.cuda()\n",
    "            target = target.numpy().astype(int)\n",
    "            output = model_ft(img)\n",
    "            output = output.cpu().numpy() > 0.5\n",
    "            result = (target.astype(bool) == output).astype(int) # if true result=1 else res=0\n",
    "            TP_array[0,feature] += np.logical_and(target.astype(bool), output).astype(int).item()\n",
    "            FP_FN_array[0,feature] += np.logical_xor(target.astype(bool), output).astype(int).item()\n",
    "            result_array[0,feature] += result.item()\n",
    "            cnt_array[0,feature] += target.item()\n",
    "                \n",
    "    mAcc = np.mean(result_array[0] / len(val_dl))\n",
    "    wAcc = np.sum(result_array / len(val_dl) * cnt_array / np.sum(cnt_array))\n",
    "    f1 = 2.0 * TP_array / (2.0 * TP_array + FP_FN_array)\n",
    "    f1[np.isnan(f1)] = 0\n",
    "    hist_dict['mAcc'].append(mAcc)\n",
    "    hist_dict['wAcc'].append(wAcc)\n",
    "    hist_dict['f1'].append(f1)\n",
    "    print('mAcc: ', np.mean(result_array[0] / len(val_dl)))\n",
    "    print('wAcc: ', np.sum(result_array / len(val_dl) * cnt_array / np.sum(cnt_array)))\n",
    "    print('F1-score', ', '.join(['%.2f' % x for x in f1[0]]))        \n",
    "        "
   ]
  },
  {
   "cell_type": "code",
   "execution_count": null,
   "metadata": {},
   "outputs": [],
   "source": []
  },
  {
   "cell_type": "code",
   "execution_count": 5,
   "metadata": {},
   "outputs": [],
   "source": [
    "model_ft = torchvision.models.densenet161(pretrained=True)\n",
    "num_ftrs = model_ft.classifier.in_features\n",
    "model_ft.classifier = nn.Sequential(nn.Linear(num_ftrs, 20), nn.Sigmoid())\n",
    "input_size = 224"
   ]
  },
  {
   "cell_type": "code",
   "execution_count": 6,
   "metadata": {},
   "outputs": [],
   "source": [
    "optimizer = torch.optim.SGD(model_ft.parameters(), lr=1e-4, weight_decay=1e-4)\n",
    "criterion = nn.BCELoss().cuda()\n",
    "model_ft = model_ft.cuda()"
   ]
  },
  {
   "cell_type": "code",
   "execution_count": null,
   "metadata": {},
   "outputs": [
    {
     "data": {
      "application/vnd.jupyter.widget-view+json": {
       "model_id": "74824fa3db5a4b3abfc97ef9218b70d0",
       "version_major": 2,
       "version_minor": 0
      },
      "text/plain": [
       "HBox(children=(IntProgress(value=0, max=339), HTML(value='')))"
      ]
     },
     "metadata": {},
     "output_type": "display_data"
    },
    {
     "name": "stdout",
     "output_type": "stream",
     "text": [
      "torch.Size([32, 20]) torch.Size([32, 20])\n",
      "torch.Size([32, 20]) torch.Size([32, 20])\n",
      "torch.Size([32, 20]) torch.Size([32, 20])\n",
      "torch.Size([32, 20]) torch.Size([32, 20])\n",
      "torch.Size([32, 20]) torch.Size([32, 20])\n",
      "torch.Size([32, 20]) torch.Size([32, 20])\n",
      "torch.Size([32, 20]) torch.Size([32, 20])\n",
      "torch.Size([32, 20]) torch.Size([32, 20])\n",
      "torch.Size([32, 20]) torch.Size([32, 20])\n",
      "torch.Size([32, 20]) torch.Size([32, 20])\n",
      "torch.Size([32, 20]) torch.Size([32, 20])\n",
      "torch.Size([32, 20]) torch.Size([32, 20])\n",
      "torch.Size([32, 20]) torch.Size([32, 20])\n",
      "torch.Size([32, 20]) torch.Size([32, 20])\n",
      "torch.Size([32, 20]) torch.Size([32, 20])\n",
      "torch.Size([32, 20]) torch.Size([32, 20])\n"
     ]
    }
   ],
   "source": [
    "hist_dict = {'mAcc': [], 'wAcc':[], 'f1': []}\n",
    "for e in range(10):\n",
    "    model_ft.train()\n",
    "    with tqdm(total=len(train_dl)) as t:\n",
    "        loss_hist = []\n",
    "        for i, sample in enumerate(train_dl):\n",
    "            optimizer.zero_grad()\n",
    "            img, target = sample\n",
    "            img = img.cuda()\n",
    "            target = target.cuda()\n",
    "            output = model_ft(img)\n",
    "            print(target.size(),output.size())\n",
    "            loss = criterion(output, target)\n",
    "            loss.backward()\n",
    "            optimizer.step()\n",
    "            t.set_postfix_str(\"Batch Loss: %.4f\" % loss.item())\n",
    "            t.update()\n",
    "            loss_hist.append(loss.item())\n",
    "    print('Mean train loss: %.4f' % np.mean(loss_hist))\n",
    "    \n",
    "    # val\n",
    "    model_ft.eval()\n",
    "    result_array = np.zeros((1, 20), dtype=int)\n",
    "    cnt_array = np.zeros((1, 20), dtype=int)\n",
    "    TP_array = np.zeros((1, 20), dtype=int)\n",
    "    FP_FN_array = np.zeros((1, 20), dtype=int)\n",
    "    with torch.no_grad():\n",
    "        for i, sample in tqdm(enumerate(val_dl), total=len(val_dl)):\n",
    "            img, target = sample\n",
    "            img = img.cuda()\n",
    "            target = target.numpy().astype(int)\n",
    "            output = model_ft(img)\n",
    "            output = output.cpu().numpy() > 0.5\n",
    "            res = (target.astype(bool) == output).astype(int)\n",
    "            TP_array += np.logical_and(target.astype(bool), output).astype(int)\n",
    "            FP_FN_array += np.logical_xor(target.astype(bool), output).astype(int)\n",
    "            result_array += res\n",
    "            cnt_array += target\n",
    "        mAcc = np.mean(result_array[0] / len(val_dl))\n",
    "        wAcc = np.sum(result_array / len(val_dl) * cnt_array / np.sum(cnt_array))\n",
    "        f1 = 2.0 * TP_array / (2.0 * TP_array + FP_FN_array)\n",
    "        hist_dict['mAcc'].append(mAcc)\n",
    "        hist_dict['wAcc'].append(wAcc)\n",
    "        hist_dict['f1'].append(f1)\n",
    "        print('mAcc: ', np.mean(result_array[0] / len(val_dl)))\n",
    "        print('wAcc: ', np.sum(result_array / len(val_dl) * cnt_array / np.sum(cnt_array)))\n",
    "        print('F1-score', ', '.join(['%.2f' % x for x in f1[0]]))"
   ]
  },
  {
   "cell_type": "code",
   "execution_count": 50,
   "metadata": {},
   "outputs": [
    {
     "name": "stdout",
     "output_type": "stream",
     "text": [
      "mAcc:  0.9427680798004987\n",
      "wAcc:  0.7780759072782178\n",
      "F1-score 0.73, 0.00, 0.00, 0.00, 0.00, 0.00, 0.00, 0.00, 0.00, 0.00, 0.00, 0.00, 0.00, 0.00, 0.00, 0.00, 0.00, 0.00, 0.00, 0.00\n"
     ]
    }
   ],
   "source": [
    "#plt.bar(np.arange(1, 21), result_array[0] / len(val_dl))\n",
    "mAcc = np.mean(result_array[0] / len(val_dl))\n",
    "wAcc = np.sum(result_array / len(val_dl) * cnt_array / np.sum(cnt_array))\n",
    "f1 = 2.0 * TP_array / (2.0 * TP_array + FP_FN_array)\n",
    "print('mAcc: ', np.mean(result_array[0] / len(val_dl)))\n",
    "print('wAcc: ', np.sum(result_array / len(val_dl) * cnt_array / np.sum(cnt_array)))\n",
    "print('F1-score', ', '.join(['%.2f' % x for x in f1[0]]))\n",
    "#plt.bar(np.arange(1, 21), f1[0])\n",
    "#t = plt.title('F1-score')"
   ]
  }
 ],
 "metadata": {
  "kernelspec": {
   "display_name": "Python3 (pytorch)",
   "language": "python",
   "name": "pytorch_py3"
  },
  "language_info": {
   "codemirror_mode": {
    "name": "ipython",
    "version": 3
   },
   "file_extension": ".py",
   "mimetype": "text/x-python",
   "name": "python",
   "nbconvert_exporter": "python",
   "pygments_lexer": "ipython3",
   "version": "3.6.2"
  }
 },
 "nbformat": 4,
 "nbformat_minor": 2
}
