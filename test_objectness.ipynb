{
 "cells": [
  {
   "cell_type": "code",
   "execution_count": 3,
   "metadata": {},
   "outputs": [],
   "source": [
    "from torch.utils.data import Dataset, DataLoader\n",
    "import os"
   ]
  },
  {
   "cell_type": "code",
   "execution_count": 2,
   "metadata": {},
   "outputs": [],
   "source": [
    "class SSDataset(Dataset):\n",
    "    def __init__(self, opt):\n",
    "        super(SSDataset, self).__init__()\n",
    "        self.info_list = get_info_list(opt['info_path'])\n",
    "        self.root_path = opt['root_path']\n",
    "    def __getitem__(self, index):\n",
    "        pass\n",
    "    \n",
    "    def __len__(self):\n",
    "        pass"
   ]
  },
  {
   "cell_type": "code",
   "execution_count": 8,
   "metadata": {},
   "outputs": [],
   "source": [
    "def get_info_list(info_path):\n",
    "    img_list = os.listdir(info_path)\n",
    "    info_list = []\n",
    "    for img_name in img_list:\n",
    "        with open(os.path.join(info_path, img_name)) as f:\n",
    "            res = f.read().splitlines()\n",
    "        for r in res:\n",
    "            s = r.split()\n",
    "            name = img_name.replace('.txt', '.jpg')\n",
    "            label = s[0]\n",
    "            bbox = [int(x) for x in s[1:]]\n",
    "            info_list.append((name, label, bbox))\n",
    "    return info_list"
   ]
  },
  {
   "cell_type": "code",
   "execution_count": 9,
   "metadata": {},
   "outputs": [],
   "source": [
    "info_list = get_info('./results/ss/')"
   ]
  },
  {
   "cell_type": "code",
   "execution_count": 10,
   "metadata": {},
   "outputs": [
    {
     "data": {
      "text/plain": [
       "816935"
      ]
     },
     "execution_count": 10,
     "metadata": {},
     "output_type": "execute_result"
    }
   ],
   "source": [
    "len(info_list)"
   ]
  }
 ],
 "metadata": {
  "kernelspec": {
   "display_name": "Python3 (pytorch)",
   "language": "python",
   "name": "pytorch_py3"
  },
  "language_info": {
   "codemirror_mode": {
    "name": "ipython",
    "version": 3
   },
   "file_extension": ".py",
   "mimetype": "text/x-python",
   "name": "python",
   "nbconvert_exporter": "python",
   "pygments_lexer": "ipython3",
   "version": "3.6.2"
  }
 },
 "nbformat": 4,
 "nbformat_minor": 2
}
