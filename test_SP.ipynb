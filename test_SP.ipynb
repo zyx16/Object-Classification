{
 "cells": [
  {
   "cell_type": "code",
   "execution_count": 89,
   "metadata": {},
   "outputs": [],
   "source": [
    "import os\n",
    "import math\n",
    "os.environ['CUDA_VISIBLE_DEVICES'] = '4'"
   ]
  },
  {
   "cell_type": "code",
   "execution_count": 2,
   "metadata": {},
   "outputs": [],
   "source": [
    "import torch\n",
    "import torch.nn as nn"
   ]
  },
  {
   "cell_type": "code",
   "execution_count": 123,
   "metadata": {},
   "outputs": [],
   "source": [
    "class SoftProposal(nn.Module):\n",
    "    def __init__(self, N, max_iter, err_th, device=torch.device('cuda')):\n",
    "        super(SoftProposal, self).__init__()\n",
    "        self.N = N\n",
    "        self.device = device\n",
    "        self.dist = self.init_dist().to(device)\n",
    "        self.max_iter = max_iter\n",
    "        self.err_th = err_th\n",
    "    \n",
    "    def init_dist(self):\n",
    "        x = torch.arange(end=self.N)\n",
    "        y = torch.arange(end=self.N)\n",
    "        xx, yy = torch.meshgrid(x, y)\n",
    "        grid = torch.stack((xx, yy), dim=0)\n",
    "        dist = grid.reshape(2, -1, 1) - grid.reshape(2, 1, -1)\n",
    "        dist = torch.exp(- torch.sum(dist ** 2, dim=0).float() / (2 * ep2))\n",
    "        return dist\n",
    "    \n",
    "    def forward(self, feature):\n",
    "        '''\n",
    "        feature: B * K * N * N\n",
    "        '''\n",
    "        B, K, N, _ = feature.shape\n",
    "        x = feature.reshape(-1, K, N * N, 1)\n",
    "        y = feature.reshape(-1, K, 1, N * N)\n",
    "        D_ = torch.norm(x - y, dim=1) * self.dist\n",
    "        D = D_ / torch.sum(D_, dim=1).view(B, -1, 1)\n",
    "        M = torch.ones(B, N * N, 1, dtype=torch.float, device=self.device) / (N * N)\n",
    "        last_M = M\n",
    "        for i in range(self.max_iter):\n",
    "            M = torch.bmm(D, M)\n",
    "            if torch.mean(torch.abs(M - last_M)) < self.err_th:\n",
    "                break\n",
    "            last_M = M\n",
    "        return M.view(B, 1, N, N) * feature"
   ]
  },
  {
   "cell_type": "code",
   "execution_count": 124,
   "metadata": {},
   "outputs": [],
   "source": [
    "s = SoftProposal(7, 10, 1e-5)"
   ]
  },
  {
   "cell_type": "code",
   "execution_count": 125,
   "metadata": {},
   "outputs": [],
   "source": [
    "feature = torch.randn(4, 2202, 7, 7).cuda()"
   ]
  },
  {
   "cell_type": "code",
   "execution_count": 127,
   "metadata": {},
   "outputs": [
    {
     "name": "stdout",
     "output_type": "stream",
     "text": [
      "CPU times: user 3.65 ms, sys: 0 ns, total: 3.65 ms\n",
      "Wall time: 2.71 ms\n"
     ]
    }
   ],
   "source": [
    "%time f = s(feature)"
   ]
  },
  {
   "cell_type": "code",
   "execution_count": 100,
   "metadata": {},
   "outputs": [
    {
     "data": {
      "text/plain": [
       "torch.Size([4, 49, 49])"
      ]
     },
     "execution_count": 100,
     "metadata": {},
     "output_type": "execute_result"
    }
   ],
   "source": [
    "D.shape"
   ]
  },
  {
   "cell_type": "code",
   "execution_count": 114,
   "metadata": {},
   "outputs": [
    {
     "name": "stdout",
     "output_type": "stream",
     "text": [
      "tensor([[ 0.1989,  0.3080],\n",
      "        [-1.0303,  0.1004]])\n",
      "tensor([[ 0.1989,  0.3080],\n",
      "        [-1.0303,  0.1004]])\n",
      "tensor([[-1.0818, -0.7737],\n",
      "        [ 0.6590,  0.0599]])\n"
     ]
    }
   ],
   "source": [
    "a = torch.randn(2, 2)\n",
    "b = torch.randn(2, 2)\n",
    "last = a\n",
    "print(a)\n",
    "a = torch.matmul(b, a)\n",
    "print(last)\n",
    "print(a)"
   ]
  },
  {
   "cell_type": "code",
   "execution_count": 111,
   "metadata": {},
   "outputs": [],
   "source": [
    "for i in range(7):\n",
    "    for j in range(7):\n",
    "        for p in range(7):\n",
    "            for q in range(7):\n",
    "                delta_u = torch.norm(feature[:, :, i, j] - feature[:, :, p, q], dim=1)\n",
    "                delta_L = math.exp(-((i-p)**2 + (j-q)**2)/(2 * ep2))\n",
    "                D_t = delta_u * delta_L\n",
    "                D_f = D[:, i * 7 + j, p * 7 + q]\n",
    "                assert torch.sum(D_t - D_f).item() < 1e-4"
   ]
  },
  {
   "cell_type": "code",
   "execution_count": 110,
   "metadata": {},
   "outputs": [
    {
     "data": {
      "text/plain": [
       "1.52587890625e-05"
      ]
     },
     "execution_count": 110,
     "metadata": {},
     "output_type": "execute_result"
    }
   ],
   "source": [
    "torch.sum(D_t - D_f).item()"
   ]
  },
  {
   "cell_type": "code",
   "execution_count": 108,
   "metadata": {},
   "outputs": [
    {
     "data": {
      "text/plain": [
       "tensor([42.4220, 42.2750, 42.3989, 42.9046], device='cuda:0')"
      ]
     },
     "execution_count": 108,
     "metadata": {},
     "output_type": "execute_result"
    }
   ],
   "source": [
    "D_f"
   ]
  },
  {
   "cell_type": "code",
   "execution_count": 46,
   "metadata": {},
   "outputs": [],
   "source": [
    "N = 7\n",
    "K = 2202\n",
    "B = 4\n",
    "ep2 = (0.15 * N) ** 2"
   ]
  },
  {
   "cell_type": "code",
   "execution_count": 47,
   "metadata": {},
   "outputs": [],
   "source": [
    "tmp_feature = torch.randn(B, K, N, N)"
   ]
  },
  {
   "cell_type": "code",
   "execution_count": 48,
   "metadata": {},
   "outputs": [],
   "source": [
    "x = tmp_feature.reshape(B, K, N * N, 1)"
   ]
  },
  {
   "cell_type": "code",
   "execution_count": 49,
   "metadata": {},
   "outputs": [],
   "source": [
    "#y = tmp_feature.transpose(2, 3).reshape(B, K, N * N, 1).transpose(2, 3)\n",
    "y = tmp_feature.reshape(B, K, 1, N * N)"
   ]
  },
  {
   "cell_type": "code",
   "execution_count": 69,
   "metadata": {},
   "outputs": [],
   "source": [
    "D_ = torch.norm(x-y, dim=1)"
   ]
  },
  {
   "cell_type": "code",
   "execution_count": 72,
   "metadata": {},
   "outputs": [
    {
     "data": {
      "text/plain": [
       "torch.Size([4, 49])"
      ]
     },
     "execution_count": 72,
     "metadata": {},
     "output_type": "execute_result"
    }
   ],
   "source": [
    "torch.sum(D_, dim=2).shape"
   ]
  },
  {
   "cell_type": "code",
   "execution_count": 31,
   "metadata": {},
   "outputs": [],
   "source": [
    "x = torch.arange(end=N)\n",
    "y = torch.arange(end=N)\n",
    "xx, yy = torch.meshgrid(x, y)"
   ]
  },
  {
   "cell_type": "code",
   "execution_count": 32,
   "metadata": {},
   "outputs": [],
   "source": [
    "grid = torch.stack((xx, yy), dim=0)\n",
    "dist = grid.reshape(2, -1, 1) - grid.reshape(2, 1, -1)"
   ]
  },
  {
   "cell_type": "code",
   "execution_count": 33,
   "metadata": {},
   "outputs": [],
   "source": [
    "dist = torch.exp(- torch.sum(dist ** 2, dim=0).float() / (2 * ep2))"
   ]
  },
  {
   "cell_type": "code",
   "execution_count": 34,
   "metadata": {},
   "outputs": [
    {
     "data": {
      "text/plain": [
       "torch.Size([25, 25])"
      ]
     },
     "execution_count": 34,
     "metadata": {},
     "output_type": "execute_result"
    }
   ],
   "source": [
    "dist.shape"
   ]
  },
  {
   "cell_type": "code",
   "execution_count": 36,
   "metadata": {},
   "outputs": [
    {
     "data": {
      "text/plain": [
       "torch.Size([4, 25, 25])"
      ]
     },
     "execution_count": 36,
     "metadata": {},
     "output_type": "execute_result"
    }
   ],
   "source": [
    "(D * dist).shape"
   ]
  },
  {
   "cell_type": "code",
   "execution_count": null,
   "metadata": {},
   "outputs": [],
   "source": [
    "class SoftProposal(nn.Module):\n",
    "    def __init__(self, opt):\n",
    "        super(SoftProposal, self).__init__()\n",
    "        self.K = opt['K']\n",
    "        self.N = opt['N']\n",
    "        self.dist = self.init_dist()\n",
    "    \n",
    "    def init_dist(self):\n",
    "        x = torch.arange(end=self.N)\n",
    "        y = torch.arange(end=self.N)\n",
    "        xx, yy = torch.meshgrid(x, y)\n",
    "        grid = torch.stack((xx, yy), dim=0)\n",
    "        dist = grid.reshape(2, -1, 1) - grid.reshape(2, 1, -1)\n",
    "        dist = torch.exp(- torch.sum(dist ** 2, dim=0).float() / (2 * ep2))\n",
    "        return dist\n",
    "    \n",
    "    def forward(self, feature):\n",
    "        '''\n",
    "        feature: B * K * N * N\n",
    "        '''\n",
    "        B, K, N, _ = feature.shape\n",
    "        x = feature.reshape(-1, K, N * N, 1)\n",
    "        y = feature.reshape(-1, K, 1, N * N)\n",
    "        D_ = torch.norm(x-y, dim=1) * self.dist\n",
    "        D = D / torch.sum(D_, dim=-1)\n",
    "        return D"
   ]
  }
 ],
 "metadata": {
  "kernelspec": {
   "display_name": "Python3 (pytorch)",
   "language": "python",
   "name": "pytorch_py3"
  },
  "language_info": {
   "codemirror_mode": {
    "name": "ipython",
    "version": 3
   },
   "file_extension": ".py",
   "mimetype": "text/x-python",
   "name": "python",
   "nbconvert_exporter": "python",
   "pygments_lexer": "ipython3",
   "version": "3.6.2"
  }
 },
 "nbformat": 4,
 "nbformat_minor": 2
}
