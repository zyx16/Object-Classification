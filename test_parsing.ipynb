{
 "cells": [
  {
   "cell_type": "code",
   "execution_count": 1,
   "metadata": {},
   "outputs": [],
   "source": [
    "import os\n",
    "\n",
    "from option.option import parse\n",
    "from data import create_dataset, create_dataloader\n",
    "from model import define_C\n",
    "from solver import create_solver"
   ]
  },
  {
   "cell_type": "code",
   "execution_count": 2,
   "metadata": {},
   "outputs": [
    {
     "name": "stdout",
     "output_type": "stream",
     "text": [
      "export CUDA_VISIBLE_DEVICES=1,2\n"
     ]
    }
   ],
   "source": [
    "opt = parse('./option/train/train_dense161.json')"
   ]
  },
  {
   "cell_type": "code",
   "execution_count": 3,
   "metadata": {},
   "outputs": [],
   "source": [
    "for k, v in opt['path'].items():\n",
    "    if not os.path.exists(v):\n",
    "        os.makedirs(v)"
   ]
  },
  {
   "cell_type": "code",
   "execution_count": 4,
   "metadata": {},
   "outputs": [
    {
     "name": "stdout",
     "output_type": "stream",
     "text": [
      "==================================================\n",
      "===> Network Summary\n",
      "\n",
      "Network structure: [DataParallel - densenet161], with parameters: [26,516,180]\n",
      "==================================================\n",
      "===> Solver Initialized : [OCSolver] || Use GPU : [True]\n",
      "optimizer_C:  Adam (\n",
      "Parameter Group 0\n",
      "    amsgrad: False\n",
      "    betas: (0.9, 0.999)\n",
      "    eps: 1e-08\n",
      "    initial_lr: 0.0001\n",
      "    lr: 0.0001\n",
      "    weight_decay: 0.0001\n",
      ")\n",
      "lr_scheduler milestones: [10, 15, 18]   gamma: 0.500000\n"
     ]
    }
   ],
   "source": [
    "solver = create_solver(opt)"
   ]
  },
  {
   "cell_type": "code",
   "execution_count": 5,
   "metadata": {},
   "outputs": [],
   "source": [
    "for phase, dataset_opt in opt['datasets'].items():\n",
    "    if phase == 'train':\n",
    "        train_set = create_dataset(dataset_opt)\n",
    "        train_loader = create_dataloader(train_set, dataset_opt)\n",
    "    elif phase == 'val':\n",
    "        val_set = create_dataset(dataset_opt)\n",
    "        val_loader = create_dataloader(val_set, dataset_opt)"
   ]
  },
  {
   "cell_type": "code",
   "execution_count": 6,
   "metadata": {},
   "outputs": [],
   "source": [
    "it = iter(train_loader)"
   ]
  },
  {
   "cell_type": "code",
   "execution_count": null,
   "metadata": {},
   "outputs": [],
   "source": [
    "sample = next(it)\n",
    "solver.feed_data(sample)\n",
    "solver.train_step()"
   ]
  },
  {
   "cell_type": "code",
   "execution_count": null,
   "metadata": {},
   "outputs": [],
   "source": []
  }
 ],
 "metadata": {
  "kernelspec": {
   "display_name": "Python3 (pytorch)",
   "language": "python",
   "name": "pytorch_py3"
  },
  "language_info": {
   "codemirror_mode": {
    "name": "ipython",
    "version": 3
   },
   "file_extension": ".py",
   "mimetype": "text/x-python",
   "name": "python",
   "nbconvert_exporter": "python",
   "pygments_lexer": "ipython3",
   "version": "3.6.2"
  }
 },
 "nbformat": 4,
 "nbformat_minor": 2
}
