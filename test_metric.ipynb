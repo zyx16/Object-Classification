{
 "cells": [
  {
   "cell_type": "code",
   "execution_count": 3,
   "metadata": {},
   "outputs": [],
   "source": [
    "from torchnet.meter import mAPMeter\n",
    "import torch\n",
    "\n",
    "import numpy as np"
   ]
  },
  {
   "cell_type": "code",
   "execution_count": 75,
   "metadata": {},
   "outputs": [],
   "source": [
    "class MetricMeter(object):\n",
    "    def __init__(self, class_num=20):\n",
    "        self.mAPMeter = mAPMeter()\n",
    "        self.true_array = np.zeros((1, class_num))\n",
    "        self.total = 0\n",
    "        self.cnt_array = np.zeros((1, class_num)) # count occurrence of labels\n",
    "        \n",
    "    def add(self, out, target):\n",
    "        '''\n",
    "        output: B*K\n",
    "        target: B*K\n",
    "        '''\n",
    "        self.mAPMeter.add(out, target)\n",
    "        if isinstance(out, torch.cuda.FloatTensor):\n",
    "            output = out.cpu().numpy() > 0.5\n",
    "        elif isinstance(out, torch.FloatTensor):\n",
    "            output = out.numpy() > 0.5\n",
    "        else:\n",
    "            output = out > 0.5\n",
    "        result = (target.astype(bool) == output).astype(int) # if true result=1 else res=0\n",
    "        self.true_array += np.sum(result, axis=0)\n",
    "        self.cnt_array += np.sum(target, axis=0)\n",
    "        self.total += out.shape[0]\n",
    "        \n",
    "    def value(self):\n",
    "        mAcc = np.mean(self.true_array.astype(float) / self.total)\n",
    "        wAcc = np.sum(self.true_array.astype(float) / self.total * self.cnt_array / np.sum(self.cnt_array))\n",
    "        mAP = self.mAPMeter.value()\n",
    "        return {'mAcc': mAcc, 'wAcc': wAcc, 'mAP': mAP}\n",
    "    \n",
    "    def reset(self):\n",
    "        self.mAPMeter.reset()\n",
    "        self.true_array = np.zeros(1, class_num)\n",
    "        self.total = 0\n",
    "        self.cnt_array = np.zeros(1, class_num) # count occurrence of labels"
   ]
  },
  {
   "cell_type": "code",
   "execution_count": 76,
   "metadata": {},
   "outputs": [],
   "source": [
    "m = MetricMeter(1)"
   ]
  },
  {
   "cell_type": "code",
   "execution_count": 97,
   "metadata": {},
   "outputs": [],
   "source": [
    "tmp_out = np.array([0.2, 0.3, 0.4, 0.5, 0.9])\n",
    "tmp_out = np.reshape(tmp_out, (5, 1))\n",
    "\n",
    "tmp_target = np.array([0, 0, 0, 0, 0], dtype=int)\n",
    "tmp_target = np.reshape(tmp_target, (5, 1))\n",
    "m.add(tmp_out, tmp_target)\n",
    "m.value()"
   ]
  },
  {
   "cell_type": "code",
   "execution_count": 120,
   "metadata": {},
   "outputs": [
    {
     "data": {
      "text/plain": [
       "{'mAcc': 0.806060606060606, 'wAcc': 0.806060606060606, 'mAP': tensor(0.0694)}"
      ]
     },
     "execution_count": 120,
     "metadata": {},
     "output_type": "execute_result"
    }
   ],
   "source": [
    "m.add(tmp_out, tmp_target)\n",
    "m.value()"
   ]
  },
  {
   "cell_type": "code",
   "execution_count": 65,
   "metadata": {},
   "outputs": [],
   "source": [
    "tmp_out = np.random.uniform(size=(1, 20))\n",
    "tmp_target = np.random.randint(low=0, high=2, size=(1, 20), dtype=int)\n",
    "m.add(tmp_out, tmp_target)"
   ]
  },
  {
   "cell_type": "code",
   "execution_count": 68,
   "metadata": {},
   "outputs": [],
   "source": [
    "np.reshape?"
   ]
  },
  {
   "cell_type": "code",
   "execution_count": 55,
   "metadata": {},
   "outputs": [
    {
     "data": {
      "text/plain": [
       "array([[ True,  True, False,  True, False,  True, False,  True,  True,\n",
       "         True, False, False,  True, False, False, False,  True,  True,\n",
       "        False, False]])"
      ]
     },
     "execution_count": 55,
     "metadata": {},
     "output_type": "execute_result"
    }
   ],
   "source": [
    "(tmp_out > 0.5) == tmp_target"
   ]
  }
 ],
 "metadata": {
  "kernelspec": {
   "display_name": "Python 3",
   "language": "python",
   "name": "python3"
  },
  "language_info": {
   "codemirror_mode": {
    "name": "ipython",
    "version": 3
   },
   "file_extension": ".py",
   "mimetype": "text/x-python",
   "name": "python",
   "nbconvert_exporter": "python",
   "pygments_lexer": "ipython3",
   "version": "3.7.2"
  }
 },
 "nbformat": 4,
 "nbformat_minor": 2
}
